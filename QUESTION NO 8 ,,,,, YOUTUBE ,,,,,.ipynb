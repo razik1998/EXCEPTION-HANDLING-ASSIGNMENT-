{
 "cells": [
  {
   "cell_type": "code",
   "execution_count": 1,
   "id": "c2b7b1f8",
   "metadata": {},
   "outputs": [],
   "source": [
    "#   8. Write a program to extract at least 500 Comments, Comment upvote and time when comment was posted \n",
    "#      from any YouTube Video. "
   ]
  },
  {
   "cell_type": "code",
   "execution_count": 2,
   "id": "0936ebb2",
   "metadata": {},
   "outputs": [],
   "source": [
    "#  IMPORTING REQUIRED LABRARIES\n",
    "\n",
    "import selenium \n",
    "import pandas as pd \n",
    "from selenium import webdriver\n",
    "import warnings\n",
    "warnings.filterwarnings ('ignore')\n",
    "from selenium.common.exceptions import StaleElementReferenceException, NoSuchElementException, TimeoutException\n",
    "from selenium.webdriver.common.by import By\n",
    "from bs4 import BeautifulSoup\n",
    "import requests\n",
    "import time"
   ]
  },
  {
   "cell_type": "code",
   "execution_count": 3,
   "id": "d9527f53",
   "metadata": {},
   "outputs": [],
   "source": [
    "#  CONNECTING TO THE DRIVER\n",
    "driver=webdriver.Chrome(r\"C:\\Users\\ASUS\\Downloads\\chromedriver.exe\")"
   ]
  },
  {
   "cell_type": "code",
   "execution_count": 4,
   "id": "a491b6bc",
   "metadata": {},
   "outputs": [],
   "source": [
    "#  OPENING THE HOSTELWORLD PAGE ON AUTOMATED CHROME BROWSER\n",
    "driver.get(\"https://www.youtube.com/\")"
   ]
  },
  {
   "cell_type": "code",
   "execution_count": 5,
   "id": "76601feb",
   "metadata": {},
   "outputs": [],
   "source": [
    "#  CLICKING SEARCH BUTTON \n",
    "search = driver.find_element (By.XPATH,\" /html/body/ytd-app/div[1]/ytd-page-manager/ytd-browse/ytd-two-column-browse-results-renderer/div[1]/ytd-rich-grid-renderer/div[6]/ytd-rich-grid-row[1]/div/ytd-rich-item-renderer/div/ytd-rich-grid-media/div[1]/div[2]/div[1]/h3/a\")\n",
    "search.click()\n",
    "\n",
    "//span[@class=\"style-scope yt-formatted-string\"]"
   ]
  },
  {
   "cell_type": "code",
   "execution_count": 18,
   "id": "b5385c53",
   "metadata": {},
   "outputs": [],
   "source": [
    "# SCRAPING ALL COMMENTS\n",
    "for i in range (26):\n",
    "    driver.execute_script (\"window.scrollBy(0,1000)\")\n",
    "    \n",
    "COMMENTS = []\n",
    "try:\n",
    "    com = driver.find_elements (By.XPATH,'//span[@class=\"style-scope yt-formatted-string\"]')\n",
    "    for i in com[0:500]:\n",
    "        temp = i.text\n",
    "        COMMENTS.append (temp)\n",
    "except NoSuchElementException:\n",
    "        COMMENTS.append ('-')\n",
    "            \n",
    "    "
   ]
  },
  {
   "cell_type": "code",
   "execution_count": 19,
   "id": "4636d2d0",
   "metadata": {},
   "outputs": [
    {
     "name": "stdout",
     "output_type": "stream",
     "text": [
      "500\n"
     ]
    }
   ],
   "source": [
    "print (len(COMMENTS))"
   ]
  },
  {
   "cell_type": "code",
   "execution_count": 24,
   "id": "6e4e1085",
   "metadata": {},
   "outputs": [],
   "source": [
    "# SCRAPING ALL COMMENTS TIME\n",
    "for i in range (26):\n",
    "    driver.execute_script (\"window.scrollBy(0,1000)\")\n",
    "    \n",
    "COMMENTS_TIME = []\n",
    "try:\n",
    "    comt = driver.find_elements (By.XPATH,'//a[@class=\"yt-simple-endpoint style-scope yt-formatted-string\"]')\n",
    "    for i in comt[0:500]:\n",
    "        temp = i.text\n",
    "        COMMENTS_TIME.append (temp)\n",
    "except NoSuchElementException:\n",
    "        COMMENTS_TIME.append ('-')\n",
    "            \n",
    "    "
   ]
  },
  {
   "cell_type": "code",
   "execution_count": 25,
   "id": "c98c268b",
   "metadata": {},
   "outputs": [
    {
     "name": "stdout",
     "output_type": "stream",
     "text": [
      "500\n"
     ]
    }
   ],
   "source": [
    "print (len(COMMENTS_TIME))"
   ]
  },
  {
   "cell_type": "code",
   "execution_count": 26,
   "id": "2b339779",
   "metadata": {},
   "outputs": [
    {
     "data": {
      "text/html": [
       "<div>\n",
       "<style scoped>\n",
       "    .dataframe tbody tr th:only-of-type {\n",
       "        vertical-align: middle;\n",
       "    }\n",
       "\n",
       "    .dataframe tbody tr th {\n",
       "        vertical-align: top;\n",
       "    }\n",
       "\n",
       "    .dataframe thead th {\n",
       "        text-align: right;\n",
       "    }\n",
       "</style>\n",
       "<table border=\"1\" class=\"dataframe\">\n",
       "  <thead>\n",
       "    <tr style=\"text-align: right;\">\n",
       "      <th></th>\n",
       "      <th>COMMENTS</th>\n",
       "      <th>COMMENTS_TIME</th>\n",
       "    </tr>\n",
       "  </thead>\n",
       "  <tbody>\n",
       "    <tr>\n",
       "      <th>0</th>\n",
       "      <td>YouTube Movies</td>\n",
       "      <td></td>\n",
       "    </tr>\n",
       "    <tr>\n",
       "      <th>1</th>\n",
       "      <td>YouTube Movies</td>\n",
       "      <td></td>\n",
       "    </tr>\n",
       "    <tr>\n",
       "      <th>2</th>\n",
       "      <td>YouTube Movies</td>\n",
       "      <td></td>\n",
       "    </tr>\n",
       "    <tr>\n",
       "      <th>3</th>\n",
       "      <td>YouTube Movies</td>\n",
       "      <td></td>\n",
       "    </tr>\n",
       "    <tr>\n",
       "      <th>4</th>\n",
       "      <td>YouTube Movies</td>\n",
       "      <td></td>\n",
       "    </tr>\n",
       "    <tr>\n",
       "      <th>...</th>\n",
       "      <td>...</td>\n",
       "      <td>...</td>\n",
       "    </tr>\n",
       "    <tr>\n",
       "      <th>495</th>\n",
       "      <td>You can ignore Bollywood but not ignor Arijit ...</td>\n",
       "      <td>1 month ago</td>\n",
       "    </tr>\n",
       "    <tr>\n",
       "      <th>496</th>\n",
       "      <td>️ touching voice all's fevorite singer</td>\n",
       "      <td>2 days ago</td>\n",
       "    </tr>\n",
       "    <tr>\n",
       "      <th>497</th>\n",
       "      <td>No more , the voice</td>\n",
       "      <td>9 days ago</td>\n",
       "    </tr>\n",
       "    <tr>\n",
       "      <th>498</th>\n",
       "      <td></td>\n",
       "      <td>5 days ago</td>\n",
       "    </tr>\n",
       "    <tr>\n",
       "      <th>499</th>\n",
       "      <td>one of the best sound sir ji</td>\n",
       "      <td>4 days ago</td>\n",
       "    </tr>\n",
       "  </tbody>\n",
       "</table>\n",
       "<p>500 rows × 2 columns</p>\n",
       "</div>"
      ],
      "text/plain": [
       "                                              COMMENTS COMMENTS_TIME\n",
       "0                                       YouTube Movies              \n",
       "1                                       YouTube Movies              \n",
       "2                                       YouTube Movies              \n",
       "3                                       YouTube Movies              \n",
       "4                                       YouTube Movies              \n",
       "..                                                 ...           ...\n",
       "495  You can ignore Bollywood but not ignor Arijit ...   1 month ago\n",
       "496            ️ touching voice all's fevorite singer     2 days ago\n",
       "497                              No more , the voice      9 days ago\n",
       "498                                                       5 days ago\n",
       "499                       one of the best sound sir ji    4 days ago\n",
       "\n",
       "[500 rows x 2 columns]"
      ]
     },
     "execution_count": 26,
     "metadata": {},
     "output_type": "execute_result"
    }
   ],
   "source": [
    "#  MAKING DATA FRAME \n",
    "df = pd.DataFrame ({'COMMENTS':COMMENTS,'COMMENTS_TIME':COMMENTS_TIME,})\n",
    "df"
   ]
  },
  {
   "cell_type": "code",
   "execution_count": null,
   "id": "5d0c83c1",
   "metadata": {},
   "outputs": [],
   "source": []
  }
 ],
 "metadata": {
  "kernelspec": {
   "display_name": "Python 3 (ipykernel)",
   "language": "python",
   "name": "python3"
  },
  "language_info": {
   "codemirror_mode": {
    "name": "ipython",
    "version": 3
   },
   "file_extension": ".py",
   "mimetype": "text/x-python",
   "name": "python",
   "nbconvert_exporter": "python",
   "pygments_lexer": "ipython3",
   "version": "3.9.13"
  }
 },
 "nbformat": 4,
 "nbformat_minor": 5
}
