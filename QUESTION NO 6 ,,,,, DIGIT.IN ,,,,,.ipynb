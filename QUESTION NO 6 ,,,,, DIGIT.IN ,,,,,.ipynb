{
 "cells": [
  {
   "cell_type": "code",
   "execution_count": 1,
   "id": "015285bf",
   "metadata": {},
   "outputs": [],
   "source": [
    "#   6. Write a program to scrap all the available details of best gaming laptops from digit.in. \n"
   ]
  },
  {
   "cell_type": "code",
   "execution_count": 1,
   "id": "25f13f81",
   "metadata": {},
   "outputs": [],
   "source": [
    "#  IMPORTING REQUIRED LABRARIES\n",
    "\n",
    "import selenium \n",
    "import pandas as pd \n",
    "from selenium import webdriver\n",
    "import warnings\n",
    "warnings.filterwarnings ('ignore')\n",
    "from selenium.common.exceptions import StaleElementReferenceException, NoSuchElementException, TimeoutException\n",
    "from selenium.webdriver.common.by import By\n",
    "from bs4 import BeautifulSoup\n",
    "import requests\n",
    "import time"
   ]
  },
  {
   "cell_type": "code",
   "execution_count": 2,
   "id": "1e0d4360",
   "metadata": {},
   "outputs": [],
   "source": [
    "#  CONNECTING TO THE DRIVER\n",
    "driver=webdriver.Chrome(r\"C:\\Users\\ASUS\\Downloads\\chromedriver.exe\")"
   ]
  },
  {
   "cell_type": "code",
   "execution_count": 3,
   "id": "0a13b221",
   "metadata": {},
   "outputs": [],
   "source": [
    "#  OPENING THE digit.in PAGE ON AUTOMATED CHROME BROWSER\n",
    "driver.get(\"https://www.digit.in/\")"
   ]
  },
  {
   "cell_type": "code",
   "execution_count": 5,
   "id": "df1a6fbd",
   "metadata": {},
   "outputs": [],
   "source": [
    "#  CLICKING SEARCH BUTTON \n",
    "search = driver.find_element (By.XPATH,\"/html/body/div[7]/div/div[2]/div[2]/div[4]/ul/li[9]/a\")\n",
    "search.click()"
   ]
  },
  {
   "cell_type": "code",
   "execution_count": 7,
   "id": "a77979a6",
   "metadata": {},
   "outputs": [],
   "source": [
    "#  SCRAPING ALL SYSTEMS NAME\n",
    "SYSTEM_NAME = []\n",
    "try:\n",
    "    ops = driver.find_elements (By.XPATH,'//div[@class=\"left_side\"]')\n",
    "    for i in ops:\n",
    "        temp = i.text\n",
    "        SYSTEM_NAME.append (temp)\n",
    "except NoSuchElementException:\n",
    "        SYSTEM_NAME.append ('-')\n",
    "        "
   ]
  },
  {
   "cell_type": "code",
   "execution_count": 10,
   "id": "5fcf1692",
   "metadata": {},
   "outputs": [
    {
     "name": "stdout",
     "output_type": "stream",
     "text": [
      "11\n"
     ]
    }
   ],
   "source": [
    "#  PRINTING LENGHT OF ELEMENTS \n",
    "print(len(SYSTEM_NAME))"
   ]
  },
  {
   "cell_type": "code",
   "execution_count": 15,
   "id": "59b309ac",
   "metadata": {},
   "outputs": [],
   "source": [
    "#  SCRAPING ALL OPERATING SYSTEMS NAME\n",
    "OPERATING_SYSTEM = []\n",
    "try:\n",
    "    oprs = driver.find_elements (By.XPATH,'//div[@class=\"value\"]')\n",
    "    for i in oprs[0:11]:\n",
    "        temp = (i.text.split(\" \")[0])\n",
    "        OPERATING_SYSTEM.append (temp)\n",
    "except NoSuchElementException:\n",
    "        OPERATING_SYSTEM.append ('-')\n",
    "        "
   ]
  },
  {
   "cell_type": "code",
   "execution_count": 17,
   "id": "87368d4a",
   "metadata": {},
   "outputs": [
    {
     "name": "stdout",
     "output_type": "stream",
     "text": [
      "11\n"
     ]
    }
   ],
   "source": [
    "#  PRINTING LENGHTS OF ELEMENTS\n",
    "print (len(OPERATING_SYSTEM))"
   ]
  },
  {
   "cell_type": "code",
   "execution_count": 18,
   "id": "a2ff6645",
   "metadata": {},
   "outputs": [],
   "source": [
    "#  SCRAPING ALL SCREEN SIZE\n",
    "SCREEN_SIZE = []\n",
    "try:\n",
    "    scr = driver.find_elements (By.XPATH,'//div[@class=\"value\"]')\n",
    "    for i in oprs[0:11]:\n",
    "        temp = (i.text)\n",
    "        SCREEN_SIZE.append (temp)\n",
    "except NoSuchElementException:\n",
    "        SCREEN_SIZE.append ('-')\n",
    "        "
   ]
  },
  {
   "cell_type": "code",
   "execution_count": 19,
   "id": "5bb577bc",
   "metadata": {},
   "outputs": [
    {
     "name": "stdout",
     "output_type": "stream",
     "text": [
      "11\n"
     ]
    }
   ],
   "source": [
    "#  PRINTING LENGHT OF ELEMENTS\n",
    "print (len(SCREEN_SIZE))"
   ]
  },
  {
   "cell_type": "code",
   "execution_count": 26,
   "id": "30cf4808",
   "metadata": {},
   "outputs": [],
   "source": [
    "#  SCRAPING ALL GENERATIONS AND CORE DATA\n",
    "GEN_CORE = []\n",
    "try:\n",
    "    gncr = driver.find_elements (By.XPATH,'//div[@class=\"value\"]')\n",
    "    for i in oprs[0:11]:\n",
    "        temp = (i.text)\n",
    "        GEN_CORE.append (temp)\n",
    "except NoSuchElementException:\n",
    "        GEN_CORE.append ('-')\n",
    "        "
   ]
  },
  {
   "cell_type": "code",
   "execution_count": 29,
   "id": "45f56621",
   "metadata": {},
   "outputs": [
    {
     "name": "stdout",
     "output_type": "stream",
     "text": [
      "11\n"
     ]
    }
   ],
   "source": [
    "#  PRINTING LENGHT OF ELEMENTS\n",
    "print (len(SCREEN_SIZE))"
   ]
  },
  {
   "cell_type": "code",
   "execution_count": 30,
   "id": "be172f94",
   "metadata": {},
   "outputs": [],
   "source": [
    "#  SCRAPING ALL INTERNAL AND EXTERNAL STORAGE \n",
    "INT_EXT = []\n",
    "try:\n",
    "    inex = driver.find_elements (By.XPATH,'//div[@class=\"Wrap-pop\"]')\n",
    "    for i in oprs[0:11]:\n",
    "        temp = (i.text)\n",
    "        INT_EXT.append (temp)\n",
    "except NoSuchElementException:\n",
    "        INT_EXT.append ('-')"
   ]
  },
  {
   "cell_type": "code",
   "execution_count": 31,
   "id": "cd4b0101",
   "metadata": {},
   "outputs": [
    {
     "name": "stdout",
     "output_type": "stream",
     "text": [
      "11\n"
     ]
    }
   ],
   "source": [
    "#  PRINTING LENGHT OF ELEMENTS\n",
    "print (len(INT_EXT))"
   ]
  },
  {
   "cell_type": "code",
   "execution_count": 32,
   "id": "56d3381a",
   "metadata": {},
   "outputs": [],
   "source": [
    "#  SCRAPING ALL PRICES OF SYSTEMS\n",
    "PRICES = []\n",
    "try:\n",
    "    prc = driver.find_elements (By.XPATH,'/html/body/div[9]/div[1]/div[3]/div[2]/div[2]/div[2]/div[2]/div[2]/a/p')\n",
    "    for i in oprs[0:11]:\n",
    "        temp = (i.text)\n",
    "        PRICES.append (temp)\n",
    "except NoSuchElementException:\n",
    "        PRICES.append ('-')"
   ]
  },
  {
   "cell_type": "code",
   "execution_count": 33,
   "id": "9941bfae",
   "metadata": {},
   "outputs": [
    {
     "name": "stdout",
     "output_type": "stream",
     "text": [
      "11\n"
     ]
    }
   ],
   "source": [
    "#  PRINTING LENGHT OF ELEMENTS\n",
    "print (len(PRICES))"
   ]
  },
  {
   "cell_type": "code",
   "execution_count": 34,
   "id": "da377268",
   "metadata": {},
   "outputs": [
    {
     "data": {
      "text/html": [
       "<div>\n",
       "<style scoped>\n",
       "    .dataframe tbody tr th:only-of-type {\n",
       "        vertical-align: middle;\n",
       "    }\n",
       "\n",
       "    .dataframe tbody tr th {\n",
       "        vertical-align: top;\n",
       "    }\n",
       "\n",
       "    .dataframe thead th {\n",
       "        text-align: right;\n",
       "    }\n",
       "</style>\n",
       "<table border=\"1\" class=\"dataframe\">\n",
       "  <thead>\n",
       "    <tr style=\"text-align: right;\">\n",
       "      <th></th>\n",
       "      <th>SYSTEM_NAME</th>\n",
       "      <th>OPERATING_SYSTEM</th>\n",
       "      <th>SCREEN_SIZE</th>\n",
       "      <th>GEN_CORE</th>\n",
       "      <th>INT_EXT</th>\n",
       "      <th>PRICES</th>\n",
       "    </tr>\n",
       "  </thead>\n",
       "  <tbody>\n",
       "    <tr>\n",
       "      <th>0</th>\n",
       "      <td>1.\\nMSI Titan GT77-12UHS</td>\n",
       "      <td>Windows</td>\n",
       "      <td>Windows 11 Home</td>\n",
       "      <td>Windows 11 Home</td>\n",
       "      <td>Windows 11 Home</td>\n",
       "      <td>Windows 11 Home</td>\n",
       "    </tr>\n",
       "    <tr>\n",
       "      <th>1</th>\n",
       "      <td>2.\\nLenovo Legion 7</td>\n",
       "      <td>17.3\"</td>\n",
       "      <td>17.3\" (3840 x 2160)</td>\n",
       "      <td>17.3\" (3840 x 2160)</td>\n",
       "      <td>17.3\" (3840 x 2160)</td>\n",
       "      <td>17.3\" (3840 x 2160)</td>\n",
       "    </tr>\n",
       "    <tr>\n",
       "      <th>2</th>\n",
       "      <td>3.\\nAlienware X17 R2</td>\n",
       "      <td>12th</td>\n",
       "      <td>12th Gen Intel Core i9-12900HX | NA</td>\n",
       "      <td>12th Gen Intel Core i9-12900HX | NA</td>\n",
       "      <td>12th Gen Intel Core i9-12900HX | NA</td>\n",
       "      <td>12th Gen Intel Core i9-12900HX | NA</td>\n",
       "    </tr>\n",
       "    <tr>\n",
       "      <th>3</th>\n",
       "      <td>4.\\nAcer Predator Triton 500 SE PT516-52s</td>\n",
       "      <td>2</td>\n",
       "      <td>2 TB SSD/64 GB DDR5</td>\n",
       "      <td>2 TB SSD/64 GB DDR5</td>\n",
       "      <td>2 TB SSD/64 GB DDR5</td>\n",
       "      <td>2 TB SSD/64 GB DDR5</td>\n",
       "    </tr>\n",
       "    <tr>\n",
       "      <th>4</th>\n",
       "      <td>5.\\nOmen By HP (16-B1371TX)</td>\n",
       "      <td>Windows</td>\n",
       "      <td>Windows 11 Home</td>\n",
       "      <td>Windows 11 Home</td>\n",
       "      <td>Windows 11 Home</td>\n",
       "      <td>Windows 11 Home</td>\n",
       "    </tr>\n",
       "    <tr>\n",
       "      <th>5</th>\n",
       "      <td>6.\\nAcer Predator Helios 300 AN515-45</td>\n",
       "      <td>16\"</td>\n",
       "      <td>16\" (2560 x 1600)</td>\n",
       "      <td>16\" (2560 x 1600)</td>\n",
       "      <td>16\" (2560 x 1600)</td>\n",
       "      <td>16\" (2560 x 1600)</td>\n",
       "    </tr>\n",
       "    <tr>\n",
       "      <th>6</th>\n",
       "      <td>7.\\nMSI Delta 15 (A5EFK-083IN)</td>\n",
       "      <td>12th</td>\n",
       "      <td>12th Gen Intel Core i9-12900HX | 2.3 GHz</td>\n",
       "      <td>12th Gen Intel Core i9-12900HX | 2.3 GHz</td>\n",
       "      <td>12th Gen Intel Core i9-12900HX | 2.3 GHz</td>\n",
       "      <td>12th Gen Intel Core i9-12900HX | 2.3 GHz</td>\n",
       "    </tr>\n",
       "    <tr>\n",
       "      <th>7</th>\n",
       "      <td>8.\\nOmen By HP (16-C0141AX)</td>\n",
       "      <td>1</td>\n",
       "      <td>1 TB SSD/32 GB DDR4</td>\n",
       "      <td>1 TB SSD/32 GB DDR4</td>\n",
       "      <td>1 TB SSD/32 GB DDR4</td>\n",
       "      <td>1 TB SSD/32 GB DDR4</td>\n",
       "    </tr>\n",
       "    <tr>\n",
       "      <th>8</th>\n",
       "      <td>9.\\nLenovo Legion 5i Pro (82RF00MGIN)</td>\n",
       "      <td>Windows</td>\n",
       "      <td>Windows 11 Home</td>\n",
       "      <td>Windows 11 Home</td>\n",
       "      <td>Windows 11 Home</td>\n",
       "      <td>Windows 11 Home</td>\n",
       "    </tr>\n",
       "    <tr>\n",
       "      <th>9</th>\n",
       "      <td>10.\\nAlienware M15 R5 Ryzen Edition Icc-C78000...</td>\n",
       "      <td>17.3\"</td>\n",
       "      <td>17.3\" (1920 x 1080)</td>\n",
       "      <td>17.3\" (1920 x 1080)</td>\n",
       "      <td>17.3\" (1920 x 1080)</td>\n",
       "      <td>17.3\" (1920 x 1080)</td>\n",
       "    </tr>\n",
       "    <tr>\n",
       "      <th>10</th>\n",
       "      <td>Digit.in is one of the most trusted and popula...</td>\n",
       "      <td>12th</td>\n",
       "      <td>12th Gen Intel Core i9-12900H | 5 GHz</td>\n",
       "      <td>12th Gen Intel Core i9-12900H | 5 GHz</td>\n",
       "      <td>12th Gen Intel Core i9-12900H | 5 GHz</td>\n",
       "      <td>12th Gen Intel Core i9-12900H | 5 GHz</td>\n",
       "    </tr>\n",
       "  </tbody>\n",
       "</table>\n",
       "</div>"
      ],
      "text/plain": [
       "                                          SYSTEM_NAME OPERATING_SYSTEM  \\\n",
       "0                            1.\\nMSI Titan GT77-12UHS          Windows   \n",
       "1                                 2.\\nLenovo Legion 7            17.3\"   \n",
       "2                                3.\\nAlienware X17 R2             12th   \n",
       "3           4.\\nAcer Predator Triton 500 SE PT516-52s                2   \n",
       "4                         5.\\nOmen By HP (16-B1371TX)          Windows   \n",
       "5               6.\\nAcer Predator Helios 300 AN515-45              16\"   \n",
       "6                      7.\\nMSI Delta 15 (A5EFK-083IN)             12th   \n",
       "7                         8.\\nOmen By HP (16-C0141AX)                1   \n",
       "8               9.\\nLenovo Legion 5i Pro (82RF00MGIN)          Windows   \n",
       "9   10.\\nAlienware M15 R5 Ryzen Edition Icc-C78000...            17.3\"   \n",
       "10  Digit.in is one of the most trusted and popula...             12th   \n",
       "\n",
       "                                 SCREEN_SIZE  \\\n",
       "0                            Windows 11 Home   \n",
       "1                        17.3\" (3840 x 2160)   \n",
       "2        12th Gen Intel Core i9-12900HX | NA   \n",
       "3                        2 TB SSD/64 GB DDR5   \n",
       "4                            Windows 11 Home   \n",
       "5                          16\" (2560 x 1600)   \n",
       "6   12th Gen Intel Core i9-12900HX | 2.3 GHz   \n",
       "7                        1 TB SSD/32 GB DDR4   \n",
       "8                            Windows 11 Home   \n",
       "9                        17.3\" (1920 x 1080)   \n",
       "10     12th Gen Intel Core i9-12900H | 5 GHz   \n",
       "\n",
       "                                    GEN_CORE  \\\n",
       "0                            Windows 11 Home   \n",
       "1                        17.3\" (3840 x 2160)   \n",
       "2        12th Gen Intel Core i9-12900HX | NA   \n",
       "3                        2 TB SSD/64 GB DDR5   \n",
       "4                            Windows 11 Home   \n",
       "5                          16\" (2560 x 1600)   \n",
       "6   12th Gen Intel Core i9-12900HX | 2.3 GHz   \n",
       "7                        1 TB SSD/32 GB DDR4   \n",
       "8                            Windows 11 Home   \n",
       "9                        17.3\" (1920 x 1080)   \n",
       "10     12th Gen Intel Core i9-12900H | 5 GHz   \n",
       "\n",
       "                                     INT_EXT  \\\n",
       "0                            Windows 11 Home   \n",
       "1                        17.3\" (3840 x 2160)   \n",
       "2        12th Gen Intel Core i9-12900HX | NA   \n",
       "3                        2 TB SSD/64 GB DDR5   \n",
       "4                            Windows 11 Home   \n",
       "5                          16\" (2560 x 1600)   \n",
       "6   12th Gen Intel Core i9-12900HX | 2.3 GHz   \n",
       "7                        1 TB SSD/32 GB DDR4   \n",
       "8                            Windows 11 Home   \n",
       "9                        17.3\" (1920 x 1080)   \n",
       "10     12th Gen Intel Core i9-12900H | 5 GHz   \n",
       "\n",
       "                                      PRICES  \n",
       "0                            Windows 11 Home  \n",
       "1                        17.3\" (3840 x 2160)  \n",
       "2        12th Gen Intel Core i9-12900HX | NA  \n",
       "3                        2 TB SSD/64 GB DDR5  \n",
       "4                            Windows 11 Home  \n",
       "5                          16\" (2560 x 1600)  \n",
       "6   12th Gen Intel Core i9-12900HX | 2.3 GHz  \n",
       "7                        1 TB SSD/32 GB DDR4  \n",
       "8                            Windows 11 Home  \n",
       "9                        17.3\" (1920 x 1080)  \n",
       "10     12th Gen Intel Core i9-12900H | 5 GHz  "
      ]
     },
     "execution_count": 34,
     "metadata": {},
     "output_type": "execute_result"
    }
   ],
   "source": [
    "#  MAKING DATA FRAME AND DISPLAYING IN DATA FRAME FORMAT\n",
    "df = pd.DataFrame ({'SYSTEM_NAME':SYSTEM_NAME,'OPERATING_SYSTEM':OPERATING_SYSTEM,'SCREEN_SIZE':SCREEN_SIZE,'GEN_CORE':GEN_CORE,'INT_EXT':INT_EXT,'PRICES':PRICES})\n",
    "df"
   ]
  },
  {
   "cell_type": "code",
   "execution_count": null,
   "id": "b6798428",
   "metadata": {},
   "outputs": [],
   "source": []
  }
 ],
 "metadata": {
  "kernelspec": {
   "display_name": "Python 3 (ipykernel)",
   "language": "python",
   "name": "python3"
  },
  "language_info": {
   "codemirror_mode": {
    "name": "ipython",
    "version": 3
   },
   "file_extension": ".py",
   "mimetype": "text/x-python",
   "name": "python",
   "nbconvert_exporter": "python",
   "pygments_lexer": "ipython3",
   "version": "3.9.13"
  }
 },
 "nbformat": 4,
 "nbformat_minor": 5
}
