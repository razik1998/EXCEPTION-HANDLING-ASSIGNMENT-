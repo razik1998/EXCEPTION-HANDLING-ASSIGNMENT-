{
 "cells": [
  {
   "cell_type": "code",
   "execution_count": 1,
   "id": "7b4c1d59",
   "metadata": {},
   "outputs": [],
   "source": [
    "#   1. Write a python program which searches all the product under a particular product from www.amazon.in. The \n",
    "#      product to be searched will be taken as input from user. For e.g. If user input is ‘guitar’. Then search for \n",
    "#      guitars."
   ]
  },
  {
   "cell_type": "code",
   "execution_count": 1,
   "id": "fdbd8e5c",
   "metadata": {},
   "outputs": [],
   "source": [
    "#  IMPORTING REQUIRED LABRARIES\n",
    "\n",
    "import selenium \n",
    "import pandas as pd \n",
    "from selenium import webdriver\n",
    "import warnings\n",
    "warnings.filterwarnings ('ignore')\n",
    "from selenium.common.exceptions import StaleElementReferenceException, NoSuchElementException, TimeoutException\n",
    "from selenium.webdriver.common.by import By\n",
    "from bs4 import BeautifulSoup\n",
    "import requests\n",
    "import time"
   ]
  },
  {
   "cell_type": "code",
   "execution_count": 2,
   "id": "78814e87",
   "metadata": {},
   "outputs": [],
   "source": [
    "#  CONNECTING TO THE DRIVER\n",
    "driver=webdriver.Chrome(r\"C:\\Users\\ASUS\\Downloads\\chromedriver.exe\")"
   ]
  },
  {
   "cell_type": "code",
   "execution_count": 3,
   "id": "252fbdfc",
   "metadata": {},
   "outputs": [],
   "source": [
    "#  OPENING THE AMAZON  PAGE ON AUTOMATED CHROME BROWSER\n",
    "driver.get(\"https://www.amazon.in\")"
   ]
  },
  {
   "cell_type": "code",
   "execution_count": 4,
   "id": "19c859c7",
   "metadata": {},
   "outputs": [
    {
     "name": "stdout",
     "output_type": "stream",
     "text": [
      "SEARCH AMAZON.IN PRODUCTS   :- guiter\n"
     ]
    }
   ],
   "source": [
    "products = input ('SEARCH AMAZON.IN PRODUCTS   :- ')"
   ]
  },
  {
   "cell_type": "code",
   "execution_count": null,
   "id": "02b4a61d",
   "metadata": {},
   "outputs": [],
   "source": []
  },
  {
   "cell_type": "code",
   "execution_count": null,
   "id": "0634b807",
   "metadata": {},
   "outputs": [],
   "source": []
  },
  {
   "cell_type": "code",
   "execution_count": null,
   "id": "bc2914f8",
   "metadata": {},
   "outputs": [],
   "source": []
  },
  {
   "cell_type": "code",
   "execution_count": null,
   "id": "92f5a824",
   "metadata": {},
   "outputs": [],
   "source": []
  },
  {
   "cell_type": "markdown",
   "id": "e1f42da4",
   "metadata": {},
   "source": [
    "#   QUESTION NO 2 CONTINUING "
   ]
  },
  {
   "cell_type": "code",
   "execution_count": null,
   "id": "be34426e",
   "metadata": {},
   "outputs": [],
   "source": [
    "\"Brand Name\", \"Name of the Product\", \"Price\", \"Return/Exchange\", \"Expected Delivery\", \"Availability\" and \n",
    "“Product URL”. In case, if any of the details are missing for any of the product then replace it by “-“."
   ]
  },
  {
   "cell_type": "code",
   "execution_count": null,
   "id": "bbbf2d68",
   "metadata": {},
   "outputs": [],
   "source": []
  },
  {
   "cell_type": "code",
   "execution_count": 5,
   "id": "7a9c9cac",
   "metadata": {},
   "outputs": [],
   "source": [
    "#   ENTERING PRODUCT AS REQUIRED \n",
    "products = driver.find_element (By.XPATH,\"/html/body/div[1]/header/div/div[1]/div[2]/div/form/div[2]/div[1]/input \")\n",
    "products.send_keys ('guitars')"
   ]
  },
  {
   "cell_type": "code",
   "execution_count": 6,
   "id": "b9a8fac6",
   "metadata": {},
   "outputs": [],
   "source": [
    "#  CLICKING SEARCH BUTTON \n",
    "search = driver.find_element (By.XPATH,\"/html/body/div[1]/header/div/div[1]/div[2]/div/form/div[3]/div/span/input\")\n",
    "search.click()"
   ]
  },
  {
   "cell_type": "code",
   "execution_count": 7,
   "id": "67da9e07",
   "metadata": {},
   "outputs": [],
   "source": [
    "# SCRAPING ALL PRODUCTS URL\n",
    "PRODUCTS_URL = []\n",
    "start = 0\n",
    "end   = 3\n",
    "for page in range (start,end):\n",
    "    url = driver.find_elements (By.XPATH,'//a[@class=\"a-link-normal s-no-outline\"]')\n",
    "    for i in url:\n",
    "        PRODUCTS_URL.append (i.get_attribute(\"href\"))\n",
    "    next_button = driver.find_elements (By.XPATH,'//a[@class=\"s-pagination-item s-pagination-next s-pagination-button s-pagination-separator\"]')\n",
    "    time.sleep(3)\n",
    "        "
   ]
  },
  {
   "cell_type": "code",
   "execution_count": 8,
   "id": "bfad116b",
   "metadata": {},
   "outputs": [
    {
     "name": "stdout",
     "output_type": "stream",
     "text": [
      "192\n"
     ]
    }
   ],
   "source": [
    "print (len(PRODUCTS_URL))"
   ]
  },
  {
   "cell_type": "code",
   "execution_count": 9,
   "id": "0225383e",
   "metadata": {},
   "outputs": [],
   "source": [
    "# MAKING EMPTY LIST \n",
    "BRANDS = []\n",
    "PRODUCTS = []\n",
    "PRICES = []\n",
    "RE_EX = []\n",
    "EXP_DELIVERY = []\n",
    "AVAILABILITY = []\n"
   ]
  },
  {
   "cell_type": "code",
   "execution_count": null,
   "id": "a6e61c7c",
   "metadata": {},
   "outputs": [],
   "source": [
    "# SCRAPING ALL BRAND NAMES \n",
    "\n",
    "for i in PRODUCTS_URL:\n",
    "    driver.get(i)\n",
    "    time.sleep(5)\n",
    "    \n",
    "    try:\n",
    "        brand = driver.find_element(By.XPATH,'/html/body/div[2]/div[2]/div[5]/div[3]/div[4]/div[1]/div/h1/span')\n",
    "        BRANDS.append (brand.text)\n",
    "    except NoSuchElementException:\n",
    "        BRANDS.append ('-')\n",
    "        \n",
    "\n",
    "# SCRAPING ALL PRODUCT NAMES \n",
    "    try:\n",
    "        pro_nm = driver.find_element(By.XPATH,'/html/body/div[2]/div[2]/div[5]/div[3]/div[4]/div[1]/div/h1')\n",
    "        PRODUCTS.append (pro_nm.text.split(\" \")[1:])\n",
    "    except NoSuchElementException:\n",
    "        PRODUCTS.append ('-')\n",
    "        \n",
    "        \n",
    "\n",
    "# SCRAPING ALL PRODUCT PRICES \n",
    "    try:\n",
    "        prc = driver.find_element(By.XPATH,'/html/body/div[2]/div[2]/div[5]/div[3]/div[4]/div[10]/div[3]/div[1]/span[2]/span[2]/span[2]')\n",
    "        PRICES.append (prc.text)\n",
    "    except NoSuchElementException:\n",
    "        PRICES.append ('-')\n",
    "        \n",
    "        \n",
    "\n",
    "# SCRAPING ALL RETURN AND EXCHANGE \n",
    "    try:\n",
    "        retn = driver.find_element(By.XPATH,'/html/body/div[2]/div[2]/div[5]/div[3]/div[4]/div[22]/div[2]/div/div/div/div[2]/div/ol/li[3]/div/span/div[2]')\n",
    "        RE_EX.append (retn.text)\n",
    "    except NoSuchElementException:\n",
    "        RE_EX.append ('-')\n",
    "        \n",
    "        \n",
    "        \n",
    "\n",
    "# SCRAPING ALL EXPECTED DELIVERY\n",
    "    try:\n",
    "        expect = driver.find_element(By.XPATH,'/html/body/div[2]/div[2]/div[5]/div[3]/div[1]/div[3]/div/div[1]/div/div/div/form/div/div/div/div/div[3]/div/div[2]/div[9]/div[1]/div/div/div[1]/span/span')\n",
    "        EXP_DELIVERY.append (expect.text)\n",
    "    except NoSuchElementException:\n",
    "        EXP_DELIVERY.append ('-')\n",
    "        \n",
    "        \n",
    "\n",
    "# SCRAPING ALL PRODUCTS AVAILABILITY\n",
    "    try:\n",
    "        avlb = driver.find_element(By.XPATH,'/html/body/div[2]/div[2]/div[5]/div[3]/div[1]/div[3]/div/div[1]/div/div/div/form/div/div/div/div/div[3]/div/div[4]/div/div[1]')\n",
    "        AVAILABILITY.append (avlb.text)\n",
    "    except NoSuchElementException:\n",
    "        AVAILABILITY.append ('-')"
   ]
  },
  {
   "cell_type": "code",
   "execution_count": null,
   "id": "50be39c7",
   "metadata": {},
   "outputs": [],
   "source": [
    "# PRINTING LENGHTS OF ELEMENTS\n",
    "print(len(BRANDS),len(PRODUCTS),len(PRICES),len(RE_EX),len(EXP_DELIVERY),len(AVAILABILITY),len(PRODUCTS_URL))"
   ]
  },
  {
   "cell_type": "code",
   "execution_count": null,
   "id": "1bb117ee",
   "metadata": {},
   "outputs": [],
   "source": [
    "# MAKING DATA FRAME AND DISPLAYING ON DATA FRAME FORMAT\n",
    "df = pd.DataFrame ({'BRAND_NAME':BRANDS,'NAME_OF_PRODUCTS':PRODUCTS,'PRICES':PRICES,'RETURN & EXCHANGE':RE_EX,'EXPECTED_DELIVERY':EXP_DELIVERY,'AVAILABILITY':AVAILABILITY,'PRODUCTS_URL':PRODUCTS_URL})\n",
    "df"
   ]
  },
  {
   "cell_type": "code",
   "execution_count": null,
   "id": "e3c77cb0",
   "metadata": {},
   "outputs": [],
   "source": []
  },
  {
   "cell_type": "code",
   "execution_count": null,
   "id": "1c199824",
   "metadata": {},
   "outputs": [],
   "source": []
  },
  {
   "cell_type": "code",
   "execution_count": null,
   "id": "65db6082",
   "metadata": {},
   "outputs": [],
   "source": []
  }
 ],
 "metadata": {
  "kernelspec": {
   "display_name": "Python 3 (ipykernel)",
   "language": "python",
   "name": "python3"
  },
  "language_info": {
   "codemirror_mode": {
    "name": "ipython",
    "version": 3
   },
   "file_extension": ".py",
   "mimetype": "text/x-python",
   "name": "python",
   "nbconvert_exporter": "python",
   "pygments_lexer": "ipython3",
   "version": "3.9.13"
  }
 },
 "nbformat": 4,
 "nbformat_minor": 5
}
