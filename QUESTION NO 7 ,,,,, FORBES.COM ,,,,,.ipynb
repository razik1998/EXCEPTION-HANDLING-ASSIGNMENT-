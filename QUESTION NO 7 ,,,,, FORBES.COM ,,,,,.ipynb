{
 "cells": [
  {
   "cell_type": "code",
   "execution_count": 1,
   "id": "a9e89cff",
   "metadata": {},
   "outputs": [],
   "source": [
    "#  7. Write a python program to scrape the details for all billionaires from www.forbes.com. Details to be scrapped: \n",
    "#     “Rank”, “Name”, “Net worth”, “Age”, “Citizenship”, “Source”, “Industry”. "
   ]
  },
  {
   "cell_type": "code",
   "execution_count": 2,
   "id": "3c36a03d",
   "metadata": {},
   "outputs": [],
   "source": [
    "#  IMPORTING REQUIRED LABRARIES\n",
    "\n",
    "import selenium \n",
    "import pandas as pd \n",
    "from selenium import webdriver\n",
    "import warnings\n",
    "warnings.filterwarnings ('ignore')\n",
    "from selenium.common.exceptions import StaleElementReferenceException, NoSuchElementException, TimeoutException\n",
    "from selenium.webdriver.common.by import By\n",
    "from bs4 import BeautifulSoup\n",
    "import requests\n",
    "import time"
   ]
  },
  {
   "cell_type": "code",
   "execution_count": 3,
   "id": "3a948238",
   "metadata": {},
   "outputs": [],
   "source": [
    "#  CONNECTING TO THE DRIVER\n",
    "driver=webdriver.Chrome(r\"C:\\Users\\ASUS\\Downloads\\chromedriver.exe\")"
   ]
  },
  {
   "cell_type": "code",
   "execution_count": 4,
   "id": "0a113caf",
   "metadata": {},
   "outputs": [],
   "source": [
    "#  OPENING THE FORBES PAGE ON AUTOMATED CHROME BROWSER\n",
    "driver.get(\"https://www.forbes.com/\")"
   ]
  },
  {
   "cell_type": "code",
   "execution_count": 5,
   "id": "c09ff09b",
   "metadata": {},
   "outputs": [],
   "source": [
    "#  CLICKING SEARCH BUTTON \n",
    "search = driver.find_element (By.XPATH,\"/html/body/div[1]/header/nav/div[1]/div[1]/div/div[2]/ul/li[2]/div[2]/div[3]/ul/li[1]\")\n",
    "search.click()"
   ]
  },
  {
   "cell_type": "code",
   "execution_count": 17,
   "id": "b1d4b384",
   "metadata": {},
   "outputs": [],
   "source": [
    "#  SCRAPING ALL RANKS DATA\n",
    "RANKS = []\n",
    "try:\n",
    "    rnk = driver.find_elements (By.XPATH,'//div[@class=\"Table_rank___YBhk Table_dataCell__2QCve\"]')\n",
    "    for i in rnk[0:200]:\n",
    "        temp = (i.text)\n",
    "        RANKS.append (temp)\n",
    "except NoSuchElementException:\n",
    "        RANKS.append ('-')\n",
    "        "
   ]
  },
  {
   "cell_type": "code",
   "execution_count": 20,
   "id": "07bde4cb",
   "metadata": {},
   "outputs": [
    {
     "name": "stdout",
     "output_type": "stream",
     "text": [
      "200\n"
     ]
    }
   ],
   "source": [
    "# PRINTING LENGHTS OF ELEMENTS\n",
    "print (len(RANKS))"
   ]
  },
  {
   "cell_type": "code",
   "execution_count": 27,
   "id": "441be6ac",
   "metadata": {},
   "outputs": [],
   "source": [
    "#  SCRAPING ALL NAMES DATA\n",
    "NAMES = []\n",
    "try:\n",
    "    nm = driver.find_elements (By.XPATH,'//div[@class=\"TableRow_cell__db-hv Table_cell__houv9\"]')\n",
    "    for i in nm[0:200]:\n",
    "        temp = (i.text)\n",
    "        NAMES.append (temp)\n",
    "except NoSuchElementException:\n",
    "        NAMES.append ('-')\n",
    "        "
   ]
  },
  {
   "cell_type": "code",
   "execution_count": 30,
   "id": "8f5b63e0",
   "metadata": {},
   "outputs": [
    {
     "name": "stdout",
     "output_type": "stream",
     "text": [
      "200\n"
     ]
    }
   ],
   "source": [
    "# PRINTING LENGHTS OF ELEMENTS\n",
    "print (len(NAMES))"
   ]
  },
  {
   "cell_type": "code",
   "execution_count": 31,
   "id": "fd8032f1",
   "metadata": {},
   "outputs": [],
   "source": [
    "#  SCRAPING ALL NET WORTH DATA\n",
    "NET_WORTH = []\n",
    "try:\n",
    "    net = driver.find_elements (By.XPATH,'//div[@class=\"Table_netWorth___L4R5 Table_dataCell__2QCve\"]')\n",
    "    for i in net[0:200]:\n",
    "        temp = (i.text)\n",
    "        NET_WORTH.append (temp)\n",
    "except NoSuchElementException:\n",
    "        NET_WORTH.append ('-')\n",
    "        "
   ]
  },
  {
   "cell_type": "code",
   "execution_count": 33,
   "id": "86bb95e0",
   "metadata": {},
   "outputs": [
    {
     "name": "stdout",
     "output_type": "stream",
     "text": [
      "200\n"
     ]
    }
   ],
   "source": [
    "# PRINTING LENGHTS OF ELEMENTS\n",
    "print (len(NET_WORTH))"
   ]
  },
  {
   "cell_type": "code",
   "execution_count": 41,
   "id": "e7071a71",
   "metadata": {},
   "outputs": [],
   "source": [
    "#  SCRAPING ALL AGE DATA\n",
    "AGE = []\n",
    "try:\n",
    "    ag = driver.find_elements (By.XPATH,'//div[@class=\"Table_dataCell__2QCve\"]')\n",
    "    for i in ag[0:200]:\n",
    "        temp = (i.text)\n",
    "        AGE.append (temp)\n",
    "except NoSuchElementException:\n",
    "        AGE.append ('-')\n",
    "        "
   ]
  },
  {
   "cell_type": "code",
   "execution_count": 43,
   "id": "f90dd8a1",
   "metadata": {},
   "outputs": [
    {
     "name": "stdout",
     "output_type": "stream",
     "text": [
      "200\n"
     ]
    }
   ],
   "source": [
    "# PRINTING LENGHTS OF ELEMENTS\n",
    "print (len(AGE))"
   ]
  },
  {
   "cell_type": "code",
   "execution_count": 44,
   "id": "02cdff11",
   "metadata": {},
   "outputs": [],
   "source": [
    "#  SCRAPING ALL CITIZENSHIP  DATA\n",
    "CITIZENSHIP = []\n",
    "try:\n",
    "    stz = driver.find_elements (By.XPATH,'//div[@class=\"TableRow_cell__db-hv Table_cell__houv9\"]')\n",
    "    for i in stz[0:200]:\n",
    "        temp = (i.text)\n",
    "        CITIZENSHIP.append (temp)\n",
    "except NoSuchElementException:\n",
    "        CITIZENSHIP.append ('-')\n",
    "        "
   ]
  },
  {
   "cell_type": "code",
   "execution_count": 47,
   "id": "a1c76491",
   "metadata": {},
   "outputs": [
    {
     "name": "stdout",
     "output_type": "stream",
     "text": [
      "200\n"
     ]
    }
   ],
   "source": [
    "# PRINTING LENGHTS OF ELEMENTS\n",
    "print (len(CITIZENSHIP ))"
   ]
  },
  {
   "cell_type": "code",
   "execution_count": 50,
   "id": "a2188a6e",
   "metadata": {},
   "outputs": [],
   "source": [
    "#  SCRAPING ALL SOURCE   DATA\n",
    "SOURCE = []\n",
    "try:\n",
    "    cur = driver.find_elements (By.XPATH,'//div[@class=\"TableRow_cell__db-hv Table_cell__houv9\"]')\n",
    "    for i in cur[0:200]:\n",
    "        temp = (i.text)\n",
    "        SOURCE.append (temp)\n",
    "except NoSuchElementException:\n",
    "        SOURCE.append ('-')\n",
    "        "
   ]
  },
  {
   "cell_type": "code",
   "execution_count": 51,
   "id": "e91373c2",
   "metadata": {},
   "outputs": [
    {
     "name": "stdout",
     "output_type": "stream",
     "text": [
      "200\n"
     ]
    }
   ],
   "source": [
    "# PRINTING LENGHTS OF ELEMENTS\n",
    "print (len(SOURCE ))"
   ]
  },
  {
   "cell_type": "code",
   "execution_count": 52,
   "id": "7f1d5b4b",
   "metadata": {},
   "outputs": [],
   "source": [
    "#  SCRAPING ALL INDUSTRY    DATA\n",
    "INDUSTRY = []\n",
    "try:\n",
    "    ind = driver.find_elements (By.XPATH,'//div[@class=\"Table_dataCell__2QCve\"]')\n",
    "    for i in ind[0:200]:\n",
    "        temp = (i.text)\n",
    "        INDUSTRY.append (temp)\n",
    "except NoSuchElementException:\n",
    "        INDUSTRY.append ('-')\n",
    "        "
   ]
  },
  {
   "cell_type": "code",
   "execution_count": 53,
   "id": "2a0835f0",
   "metadata": {},
   "outputs": [
    {
     "name": "stdout",
     "output_type": "stream",
     "text": [
      "200\n"
     ]
    }
   ],
   "source": [
    "# PRINTING LENGHTS OF ELEMENTS\n",
    "print (len(SOURCE ))"
   ]
  },
  {
   "cell_type": "code",
   "execution_count": 54,
   "id": "aa7e6834",
   "metadata": {},
   "outputs": [
    {
     "data": {
      "text/html": [
       "<div>\n",
       "<style scoped>\n",
       "    .dataframe tbody tr th:only-of-type {\n",
       "        vertical-align: middle;\n",
       "    }\n",
       "\n",
       "    .dataframe tbody tr th {\n",
       "        vertical-align: top;\n",
       "    }\n",
       "\n",
       "    .dataframe thead th {\n",
       "        text-align: right;\n",
       "    }\n",
       "</style>\n",
       "<table border=\"1\" class=\"dataframe\">\n",
       "  <thead>\n",
       "    <tr style=\"text-align: right;\">\n",
       "      <th></th>\n",
       "      <th>RANKS</th>\n",
       "      <th>NAMES</th>\n",
       "      <th>NET_WORTH</th>\n",
       "      <th>AGE</th>\n",
       "      <th>CITIZENSHIP</th>\n",
       "      <th>SOURCE</th>\n",
       "    </tr>\n",
       "  </thead>\n",
       "  <tbody>\n",
       "    <tr>\n",
       "      <th>0</th>\n",
       "      <td>1</td>\n",
       "      <td>1</td>\n",
       "      <td>$211 B</td>\n",
       "      <td>Bernard Arnault &amp; family</td>\n",
       "      <td>1</td>\n",
       "      <td>1</td>\n",
       "    </tr>\n",
       "    <tr>\n",
       "      <th>1</th>\n",
       "      <td>2</td>\n",
       "      <td>Bernard Arnault &amp; family</td>\n",
       "      <td>$180 B</td>\n",
       "      <td>74</td>\n",
       "      <td>Bernard Arnault &amp; family</td>\n",
       "      <td>Bernard Arnault &amp; family</td>\n",
       "    </tr>\n",
       "    <tr>\n",
       "      <th>2</th>\n",
       "      <td>3</td>\n",
       "      <td>$211 B</td>\n",
       "      <td>$114 B</td>\n",
       "      <td>LVMH</td>\n",
       "      <td>$211 B</td>\n",
       "      <td>$211 B</td>\n",
       "    </tr>\n",
       "    <tr>\n",
       "      <th>3</th>\n",
       "      <td>4</td>\n",
       "      <td>74</td>\n",
       "      <td>$107 B</td>\n",
       "      <td>Fashion &amp; Retail</td>\n",
       "      <td>74</td>\n",
       "      <td>74</td>\n",
       "    </tr>\n",
       "    <tr>\n",
       "      <th>4</th>\n",
       "      <td>5</td>\n",
       "      <td>France</td>\n",
       "      <td>$106 B</td>\n",
       "      <td>Elon Musk</td>\n",
       "      <td>France</td>\n",
       "      <td>France</td>\n",
       "    </tr>\n",
       "    <tr>\n",
       "      <th>...</th>\n",
       "      <td>...</td>\n",
       "      <td>...</td>\n",
       "      <td>...</td>\n",
       "      <td>...</td>\n",
       "      <td>...</td>\n",
       "      <td>...</td>\n",
       "    </tr>\n",
       "    <tr>\n",
       "      <th>195</th>\n",
       "      <td>195</td>\n",
       "      <td>Fashion &amp; Retail</td>\n",
       "      <td>$9.6 B</td>\n",
       "      <td>Finance &amp; Investments</td>\n",
       "      <td>Fashion &amp; Retail</td>\n",
       "      <td>Fashion &amp; Retail</td>\n",
       "    </tr>\n",
       "    <tr>\n",
       "      <th>196</th>\n",
       "      <td>195</td>\n",
       "      <td>29</td>\n",
       "      <td>$9.6 B</td>\n",
       "      <td>Stephen Schwarzman</td>\n",
       "      <td>29</td>\n",
       "      <td>29</td>\n",
       "    </tr>\n",
       "    <tr>\n",
       "      <th>197</th>\n",
       "      <td>195</td>\n",
       "      <td>Klaus-Michael Kuehne</td>\n",
       "      <td>$9.6 B</td>\n",
       "      <td>76</td>\n",
       "      <td>Klaus-Michael Kuehne</td>\n",
       "      <td>Klaus-Michael Kuehne</td>\n",
       "    </tr>\n",
       "    <tr>\n",
       "      <th>198</th>\n",
       "      <td>195</td>\n",
       "      <td>$39.1 B</td>\n",
       "      <td>$9.6 B</td>\n",
       "      <td>Investments</td>\n",
       "      <td>$39.1 B</td>\n",
       "      <td>$39.1 B</td>\n",
       "    </tr>\n",
       "    <tr>\n",
       "      <th>199</th>\n",
       "      <td>195</td>\n",
       "      <td>85</td>\n",
       "      <td>$9.6 B</td>\n",
       "      <td>Finance &amp; Investments</td>\n",
       "      <td>85</td>\n",
       "      <td>85</td>\n",
       "    </tr>\n",
       "  </tbody>\n",
       "</table>\n",
       "<p>200 rows × 6 columns</p>\n",
       "</div>"
      ],
      "text/plain": [
       "    RANKS                     NAMES NET_WORTH                       AGE  \\\n",
       "0       1                         1    $211 B  Bernard Arnault & family   \n",
       "1       2  Bernard Arnault & family    $180 B                        74   \n",
       "2       3                    $211 B    $114 B                      LVMH   \n",
       "3       4                        74    $107 B          Fashion & Retail   \n",
       "4       5                    France    $106 B                 Elon Musk   \n",
       "..    ...                       ...       ...                       ...   \n",
       "195   195          Fashion & Retail    $9.6 B     Finance & Investments   \n",
       "196   195                        29    $9.6 B        Stephen Schwarzman   \n",
       "197   195      Klaus-Michael Kuehne    $9.6 B                        76   \n",
       "198   195                   $39.1 B    $9.6 B               Investments   \n",
       "199   195                        85    $9.6 B     Finance & Investments   \n",
       "\n",
       "                  CITIZENSHIP                    SOURCE  \n",
       "0                           1                         1  \n",
       "1    Bernard Arnault & family  Bernard Arnault & family  \n",
       "2                      $211 B                    $211 B  \n",
       "3                          74                        74  \n",
       "4                      France                    France  \n",
       "..                        ...                       ...  \n",
       "195          Fashion & Retail          Fashion & Retail  \n",
       "196                        29                        29  \n",
       "197      Klaus-Michael Kuehne      Klaus-Michael Kuehne  \n",
       "198                   $39.1 B                   $39.1 B  \n",
       "199                        85                        85  \n",
       "\n",
       "[200 rows x 6 columns]"
      ]
     },
     "execution_count": 54,
     "metadata": {},
     "output_type": "execute_result"
    }
   ],
   "source": [
    "#  MAKING DATA FRAME AND DISPLAY IN DATA FRAME FORMAT\n",
    "df = pd.DataFrame ({'RANKS':RANKS,'NAMES':NAMES,'NET_WORTH':NET_WORTH,'AGE':AGE,'CITIZENSHIP':CITIZENSHIP,'SOURCE':SOURCE})\n",
    "df"
   ]
  },
  {
   "cell_type": "code",
   "execution_count": null,
   "id": "0a681230",
   "metadata": {},
   "outputs": [],
   "source": []
  }
 ],
 "metadata": {
  "kernelspec": {
   "display_name": "Python 3 (ipykernel)",
   "language": "python",
   "name": "python3"
  },
  "language_info": {
   "codemirror_mode": {
    "name": "ipython",
    "version": 3
   },
   "file_extension": ".py",
   "mimetype": "text/x-python",
   "name": "python",
   "nbconvert_exporter": "python",
   "pygments_lexer": "ipython3",
   "version": "3.9.13"
  }
 },
 "nbformat": 4,
 "nbformat_minor": 5
}
