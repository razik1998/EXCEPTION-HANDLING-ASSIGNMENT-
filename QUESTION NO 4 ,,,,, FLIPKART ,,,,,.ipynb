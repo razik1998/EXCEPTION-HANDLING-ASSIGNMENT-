{
 "cells": [
  {
   "cell_type": "code",
   "execution_count": 1,
   "id": "ae41bc9e",
   "metadata": {},
   "outputs": [],
   "source": [
    "#   4. Write a python program to search for a smartphone(e.g.: Oneplus Nord, pixel 4A, etc.) on www.flipkart.com\n",
    "#      and scrape following details for all the search results displayed on 1st page. Details to be scraped: “Brand \n",
    "#      Name”, “Smartphone name”, “Colour”, “RAM”, “Storage(ROM)”, “Primary Camera”, \n",
    "#      “Secondary Camera”, “Display Size”, “Battery Capacity”, “Price”, “Product URL”. Incase if any of the \n",
    "#      details is missing then replace it by “- “. Save your results in a dataframe and CSV. "
   ]
  },
  {
   "cell_type": "code",
   "execution_count": 1,
   "id": "7ddd0ed1",
   "metadata": {},
   "outputs": [],
   "source": [
    "#  IMPORTING REQUIRED LABRARIES\n",
    "\n",
    "import selenium \n",
    "import pandas as pd \n",
    "from selenium import webdriver\n",
    "import warnings\n",
    "warnings.filterwarnings ('ignore')\n",
    "from selenium.common.exceptions import StaleElementReferenceException, NoSuchElementException, TimeoutException\n",
    "from selenium.webdriver.common.by import By\n",
    "from bs4 import BeautifulSoup\n",
    "import requests\n",
    "import time"
   ]
  },
  {
   "cell_type": "code",
   "execution_count": 2,
   "id": "7ea4984f",
   "metadata": {},
   "outputs": [],
   "source": [
    "#  CONNECTING TO THE DRIVER\n",
    "driver=webdriver.Chrome(r\"C:\\Users\\ASUS\\Downloads\\chromedriver.exe\")"
   ]
  },
  {
   "cell_type": "code",
   "execution_count": 3,
   "id": "07933bea",
   "metadata": {},
   "outputs": [],
   "source": [
    "#  OPENING THE NAUKRI PAGE ON AUTOMATED CHROME BROWSER\n",
    "driver.get(\"https://www.flipkart.com\")"
   ]
  },
  {
   "cell_type": "code",
   "execution_count": 4,
   "id": "0d4fa84a",
   "metadata": {},
   "outputs": [],
   "source": [
    "#   ENTERING PRODUCT AS REQUIRED \n",
    "products = driver.find_element (By.XPATH,\"/html/body/div[1]/div/div[1]/div[1]/div[2]/div[2]/form/div/div/input \")\n",
    "products.send_keys ('Oneplus Nord, pixel 4A')"
   ]
  },
  {
   "cell_type": "code",
   "execution_count": 5,
   "id": "d60d64ee",
   "metadata": {},
   "outputs": [],
   "source": [
    "#  CLICKING SEARCH BUTTON \n",
    "search = driver.find_element (By.CLASS_NAME,\"L0Z3Pu\")\n",
    "search.click()"
   ]
  },
  {
   "cell_type": "code",
   "execution_count": 6,
   "id": "8b1a4b01",
   "metadata": {},
   "outputs": [],
   "source": [
    "BRAND_NAME = []\n",
    "PHONE_NAME = []\n",
    "PHONE_COLOUR=[]\n",
    "PHONE_RAM = []\n",
    "PHONE_ROM = []\n",
    "PRIM_CAMERA=[]\n",
    "SEC_CAMERA =[]\n",
    "DISPLAY_SIZE=[]\n",
    "BATTERY_CAP = []\n",
    "PHONE_PRICES =[]\n",
    "PRODUCT_URL = []"
   ]
  },
  {
   "cell_type": "code",
   "execution_count": 9,
   "id": "4206cb68",
   "metadata": {},
   "outputs": [],
   "source": [
    "url = driver.find_elements (By.XPATH,'//img[@class=\"_396cs4\"]')\n",
    "for i in url:\n",
    "    temp = (i.get_attribute(\"src\"))\n",
    "    PRODUCT_URL.append (temp)"
   ]
  },
  {
   "cell_type": "code",
   "execution_count": 10,
   "id": "652a7091",
   "metadata": {},
   "outputs": [
    {
     "name": "stdout",
     "output_type": "stream",
     "text": [
      "8\n"
     ]
    }
   ],
   "source": [
    "print (len(PRODUCT_URL))"
   ]
  },
  {
   "cell_type": "code",
   "execution_count": 11,
   "id": "c871337c",
   "metadata": {},
   "outputs": [],
   "source": [
    "#  SCRAPING ALL BRAND NAME\n",
    "BRAND_NAME = []\n",
    "try:\n",
    "    brd = driver.find_elements (By.XPATH,'//div[@class=\"_4rR01T\"]')\n",
    "    for i in brd:\n",
    "        temp = i.text\n",
    "        BRAND_NAME.append (temp)\n",
    "except NoSuchElementException:\n",
    "        BRAND_NAME.append ('-')\n",
    "        "
   ]
  },
  {
   "cell_type": "code",
   "execution_count": 13,
   "id": "a2b7b3e9",
   "metadata": {},
   "outputs": [
    {
     "name": "stdout",
     "output_type": "stream",
     "text": [
      "8\n"
     ]
    }
   ],
   "source": [
    "print (len(BRAND_NAME))"
   ]
  },
  {
   "cell_type": "code",
   "execution_count": 17,
   "id": "e644b159",
   "metadata": {},
   "outputs": [],
   "source": [
    "#  SCRAPING ALL PHONE NAME\n",
    "PHONE_NAME = []\n",
    "try:\n",
    "    phn = driver.find_elements (By.XPATH,'//div[@class=\"_4rR01T\"]')\n",
    "    for i in phn:\n",
    "        temp = (i.text)\n",
    "        PHONE_NAME.append (temp)\n",
    "except NoSuchElementException:\n",
    "        PHONE_NAME.append ('-')\n",
    "        "
   ]
  },
  {
   "cell_type": "code",
   "execution_count": 18,
   "id": "ba3baa68",
   "metadata": {},
   "outputs": [
    {
     "name": "stdout",
     "output_type": "stream",
     "text": [
      "8\n"
     ]
    }
   ],
   "source": [
    "print (len(PHONE_NAME))"
   ]
  },
  {
   "cell_type": "code",
   "execution_count": 20,
   "id": "1e991740",
   "metadata": {},
   "outputs": [],
   "source": [
    "#  SCRAPING ALL PHONE COLOUR\n",
    "PHONE_COLOUR = []\n",
    "try:\n",
    "    phnc = driver.find_elements (By.XPATH,'//div[@class=\"_4rR01T\"]')\n",
    "    for i in phnc:\n",
    "        temp = (i.text)\n",
    "        PHONE_COLOUR.append (temp)\n",
    "except NoSuchElementException:\n",
    "        PHONE_COLOUR.append ('-')\n",
    "        "
   ]
  },
  {
   "cell_type": "code",
   "execution_count": 21,
   "id": "684f783b",
   "metadata": {},
   "outputs": [
    {
     "name": "stdout",
     "output_type": "stream",
     "text": [
      "8\n"
     ]
    }
   ],
   "source": [
    "print (len(PHONE_COLOUR))"
   ]
  },
  {
   "cell_type": "code",
   "execution_count": 26,
   "id": "b0187bea",
   "metadata": {},
   "outputs": [],
   "source": [
    "#  SCRAPING ALL PHONE RAM\n",
    "PHONE_RAM = []\n",
    "try:\n",
    "    phnr = driver.find_elements (By.XPATH,'//li[@class=\"rgWa7D\"]')\n",
    "    for i in phnr[0:8]:\n",
    "        temp = (i.text.split(\" | \")[0])\n",
    "        PHONE_RAM.append (temp)\n",
    "except NoSuchElementException:\n",
    "        PHONE_RAM.append ('-')\n",
    "        "
   ]
  },
  {
   "cell_type": "code",
   "execution_count": 27,
   "id": "71190d12",
   "metadata": {},
   "outputs": [
    {
     "name": "stdout",
     "output_type": "stream",
     "text": [
      "8\n"
     ]
    }
   ],
   "source": [
    "print (len(PHONE_RAM))"
   ]
  },
  {
   "cell_type": "code",
   "execution_count": 30,
   "id": "16596882",
   "metadata": {},
   "outputs": [],
   "source": [
    "#  SCRAPING ALL PHONE ROM\n",
    "PHONE_ROM = []\n",
    "try:\n",
    "    phnr = driver.find_elements (By.XPATH,'//li[@class=\"rgWa7D\"]')\n",
    "    for i in phnr[0:8]:\n",
    "        temp = (i.text.split(\" | \")[-1])\n",
    "        PHONE_ROM.append (temp)\n",
    "except NoSuchElementException:\n",
    "        PHONE_ROM.append ('-')\n",
    "        "
   ]
  },
  {
   "cell_type": "code",
   "execution_count": 32,
   "id": "afe9cc9d",
   "metadata": {},
   "outputs": [
    {
     "name": "stdout",
     "output_type": "stream",
     "text": [
      "8\n"
     ]
    }
   ],
   "source": [
    "print (len(PHONE_ROM))"
   ]
  },
  {
   "cell_type": "code",
   "execution_count": 34,
   "id": "232f2d55",
   "metadata": {},
   "outputs": [],
   "source": [
    "#  SCRAPING ALL PRIM_CAMERA\n",
    "PRIM_CAMERA = []\n",
    "try:\n",
    "    prm = driver.find_elements (By.XPATH,'//li[@class=\"rgWa7D\"]')\n",
    "    for i in prm[0:8]:\n",
    "        temp = (i.text.split(\" | \")[0])\n",
    "        PRIM_CAMERA.append (temp)\n",
    "except NoSuchElementException:\n",
    "        PRIM_CAMERA.append ('-')\n",
    "        "
   ]
  },
  {
   "cell_type": "code",
   "execution_count": 35,
   "id": "a184bcdd",
   "metadata": {},
   "outputs": [
    {
     "name": "stdout",
     "output_type": "stream",
     "text": [
      "8\n"
     ]
    }
   ],
   "source": [
    "print (len(PRIM_CAMERA))"
   ]
  },
  {
   "cell_type": "code",
   "execution_count": 37,
   "id": "c00fb204",
   "metadata": {},
   "outputs": [],
   "source": [
    "#  SCRAPING ALL SEC_CAMERA\n",
    "SEC_CAMERA = []\n",
    "try:\n",
    "    prms = driver.find_elements (By.XPATH,'//li[@class=\"rgWa7D\"]')\n",
    "    for i in prms[0:8]:\n",
    "        temp = (i.text.split(\" | \")[-1])\n",
    "        SEC_CAMERA.append (temp)\n",
    "except NoSuchElementException:\n",
    "        SEC_CAMERA.append ('-')\n",
    "        "
   ]
  },
  {
   "cell_type": "code",
   "execution_count": 38,
   "id": "f84d4a0f",
   "metadata": {},
   "outputs": [
    {
     "name": "stdout",
     "output_type": "stream",
     "text": [
      "8\n"
     ]
    }
   ],
   "source": [
    "print (len(SEC_CAMERA))"
   ]
  },
  {
   "cell_type": "code",
   "execution_count": 40,
   "id": "eb6480e5",
   "metadata": {},
   "outputs": [],
   "source": [
    "#  SCRAPING ALL DISPLAY_SIZE\n",
    "DISPLAY_SIZE = []\n",
    "try:\n",
    "    prms = driver.find_elements (By.XPATH,'//li[@class=\"rgWa7D\"]')\n",
    "    for i in prms[0:8]:\n",
    "        temp = (i.text)\n",
    "        DISPLAY_SIZE.append (temp)\n",
    "except NoSuchElementException:\n",
    "        DISPLAY_SIZE.append ('-')\n",
    "        "
   ]
  },
  {
   "cell_type": "code",
   "execution_count": 41,
   "id": "30b4e48d",
   "metadata": {},
   "outputs": [
    {
     "name": "stdout",
     "output_type": "stream",
     "text": [
      "8\n"
     ]
    }
   ],
   "source": [
    "print (len(SEC_CAMERA))"
   ]
  },
  {
   "cell_type": "code",
   "execution_count": 42,
   "id": "10ecf333",
   "metadata": {},
   "outputs": [],
   "source": [
    "#  SCRAPING ALL BATTERY_CAP\n",
    "BATTERY_CAP = []\n",
    "try:\n",
    "    bett = driver.find_elements (By.XPATH,'//li[@class=\"rgWa7D\"]')\n",
    "    for i in bett[0:8]:\n",
    "        temp = (i.text)\n",
    "        BATTERY_CAP.append (temp)\n",
    "except NoSuchElementException:\n",
    "        BATTERY_CAP.append ('-')\n",
    "        "
   ]
  },
  {
   "cell_type": "code",
   "execution_count": 43,
   "id": "6cd32010",
   "metadata": {},
   "outputs": [
    {
     "name": "stdout",
     "output_type": "stream",
     "text": [
      "8\n"
     ]
    }
   ],
   "source": [
    "print (len(BATTERY_CAP))"
   ]
  },
  {
   "cell_type": "code",
   "execution_count": 44,
   "id": "2fdab0bb",
   "metadata": {},
   "outputs": [],
   "source": [
    "#  SCRAPING ALL PHONE_PRICES\n",
    "PHONE_PRICES = []\n",
    "try:\n",
    "    phnp = driver.find_elements (By.XPATH,'//div[@class=\"_25b18c\"]')\n",
    "    for i in phnp[0:8]:\n",
    "        temp = (i.text)\n",
    "        PHONE_PRICES.append (temp)\n",
    "except NoSuchElementException:\n",
    "        PHONE_PRICES.append ('-')\n",
    "        "
   ]
  },
  {
   "cell_type": "code",
   "execution_count": 45,
   "id": "22fd9f62",
   "metadata": {},
   "outputs": [
    {
     "name": "stdout",
     "output_type": "stream",
     "text": [
      "8\n"
     ]
    }
   ],
   "source": [
    "print (len(PHONE_PRICES))"
   ]
  },
  {
   "cell_type": "code",
   "execution_count": 46,
   "id": "15d8048a",
   "metadata": {},
   "outputs": [
    {
     "data": {
      "text/html": [
       "<div>\n",
       "<style scoped>\n",
       "    .dataframe tbody tr th:only-of-type {\n",
       "        vertical-align: middle;\n",
       "    }\n",
       "\n",
       "    .dataframe tbody tr th {\n",
       "        vertical-align: top;\n",
       "    }\n",
       "\n",
       "    .dataframe thead th {\n",
       "        text-align: right;\n",
       "    }\n",
       "</style>\n",
       "<table border=\"1\" class=\"dataframe\">\n",
       "  <thead>\n",
       "    <tr style=\"text-align: right;\">\n",
       "      <th></th>\n",
       "      <th>BRAND_NAME</th>\n",
       "      <th>PHONE_NAME</th>\n",
       "      <th>PHONE_COLOUR</th>\n",
       "      <th>PHONE_RAM</th>\n",
       "      <th>PHONE_ROM</th>\n",
       "      <th>PRIM_CAMERA</th>\n",
       "      <th>SEC_CAMERA</th>\n",
       "      <th>DISPLAY_SIZE</th>\n",
       "      <th>BATTERY_CAP</th>\n",
       "      <th>PHONE_PRICES</th>\n",
       "      <th>PRODUCT_URL</th>\n",
       "    </tr>\n",
       "  </thead>\n",
       "  <tbody>\n",
       "    <tr>\n",
       "      <th>0</th>\n",
       "      <td>OnePlus Nord (Gray Onyx, 256 GB)</td>\n",
       "      <td>OnePlus Nord (Gray Onyx, 256 GB)</td>\n",
       "      <td>OnePlus Nord (Gray Onyx, 256 GB)</td>\n",
       "      <td>12 GB RAM</td>\n",
       "      <td>256 GB ROM</td>\n",
       "      <td>12 GB RAM</td>\n",
       "      <td>256 GB ROM</td>\n",
       "      <td>12 GB RAM | 256 GB ROM</td>\n",
       "      <td>12 GB RAM | 256 GB ROM</td>\n",
       "      <td>₹29,999</td>\n",
       "      <td>https://rukminim1.flixcart.com/image/312/312/k...</td>\n",
       "    </tr>\n",
       "    <tr>\n",
       "      <th>1</th>\n",
       "      <td>OnePlus Nord (Blue Marble, 256 GB)</td>\n",
       "      <td>OnePlus Nord (Blue Marble, 256 GB)</td>\n",
       "      <td>OnePlus Nord (Blue Marble, 256 GB)</td>\n",
       "      <td>16.36 cm (6.44 inch) Full HD+ Display</td>\n",
       "      <td>16.36 cm (6.44 inch) Full HD+ Display</td>\n",
       "      <td>16.36 cm (6.44 inch) Full HD+ Display</td>\n",
       "      <td>16.36 cm (6.44 inch) Full HD+ Display</td>\n",
       "      <td>16.36 cm (6.44 inch) Full HD+ Display</td>\n",
       "      <td>16.36 cm (6.44 inch) Full HD+ Display</td>\n",
       "      <td>₹29,999</td>\n",
       "      <td>https://rukminim1.flixcart.com/image/312/312/k...</td>\n",
       "    </tr>\n",
       "    <tr>\n",
       "      <th>2</th>\n",
       "      <td>OnePlus Nord (Blue Marble, 64 GB)</td>\n",
       "      <td>OnePlus Nord (Blue Marble, 64 GB)</td>\n",
       "      <td>OnePlus Nord (Blue Marble, 64 GB)</td>\n",
       "      <td>48MP + 8MP</td>\n",
       "      <td>32MP + 8MP Dual Front Camera</td>\n",
       "      <td>48MP + 8MP</td>\n",
       "      <td>32MP + 8MP Dual Front Camera</td>\n",
       "      <td>48MP + 8MP | 32MP + 8MP Dual Front Camera</td>\n",
       "      <td>48MP + 8MP | 32MP + 8MP Dual Front Camera</td>\n",
       "      <td>₹24,999</td>\n",
       "      <td>https://rukminim1.flixcart.com/image/312/312/k...</td>\n",
       "    </tr>\n",
       "    <tr>\n",
       "      <th>3</th>\n",
       "      <td>OnePlus Nord (Gray Onyx, 64 GB)</td>\n",
       "      <td>OnePlus Nord (Gray Onyx, 64 GB)</td>\n",
       "      <td>OnePlus Nord (Gray Onyx, 64 GB)</td>\n",
       "      <td>4115 mAh Battery</td>\n",
       "      <td>4115 mAh Battery</td>\n",
       "      <td>4115 mAh Battery</td>\n",
       "      <td>4115 mAh Battery</td>\n",
       "      <td>4115 mAh Battery</td>\n",
       "      <td>4115 mAh Battery</td>\n",
       "      <td>₹24,999</td>\n",
       "      <td>https://rukminim1.flixcart.com/image/312/312/k...</td>\n",
       "    </tr>\n",
       "    <tr>\n",
       "      <th>4</th>\n",
       "      <td>OnePlus Nord (Gray Onyx, 128 GB)</td>\n",
       "      <td>OnePlus Nord (Gray Onyx, 128 GB)</td>\n",
       "      <td>OnePlus Nord (Gray Onyx, 128 GB)</td>\n",
       "      <td>Qualcomm® Snapdragon™ 765G Processor</td>\n",
       "      <td>Qualcomm® Snapdragon™ 765G Processor</td>\n",
       "      <td>Qualcomm® Snapdragon™ 765G Processor</td>\n",
       "      <td>Qualcomm® Snapdragon™ 765G Processor</td>\n",
       "      <td>Qualcomm® Snapdragon™ 765G Processor</td>\n",
       "      <td>Qualcomm® Snapdragon™ 765G Processor</td>\n",
       "      <td>₹27,999</td>\n",
       "      <td>https://rukminim1.flixcart.com/image/312/312/k...</td>\n",
       "    </tr>\n",
       "    <tr>\n",
       "      <th>5</th>\n",
       "      <td>OnePlus Nord (Blue Marble, 128 GB)</td>\n",
       "      <td>OnePlus Nord (Blue Marble, 128 GB)</td>\n",
       "      <td>OnePlus Nord (Blue Marble, 128 GB)</td>\n",
       "      <td>1 Year</td>\n",
       "      <td>1 Year</td>\n",
       "      <td>1 Year</td>\n",
       "      <td>1 Year</td>\n",
       "      <td>1 Year</td>\n",
       "      <td>1 Year</td>\n",
       "      <td>₹27,999</td>\n",
       "      <td>https://rukminim1.flixcart.com/image/312/312/k...</td>\n",
       "    </tr>\n",
       "    <tr>\n",
       "      <th>6</th>\n",
       "      <td>OnePlus Nord CE 2 5G (Gray Mirror, 128 GB)</td>\n",
       "      <td>OnePlus Nord CE 2 5G (Gray Mirror, 128 GB)</td>\n",
       "      <td>OnePlus Nord CE 2 5G (Gray Mirror, 128 GB)</td>\n",
       "      <td>12 GB RAM</td>\n",
       "      <td>256 GB ROM</td>\n",
       "      <td>12 GB RAM</td>\n",
       "      <td>256 GB ROM</td>\n",
       "      <td>12 GB RAM | 256 GB ROM</td>\n",
       "      <td>12 GB RAM | 256 GB ROM</td>\n",
       "      <td>₹19,999</td>\n",
       "      <td>https://rukminim1.flixcart.com/image/312/312/x...</td>\n",
       "    </tr>\n",
       "    <tr>\n",
       "      <th>7</th>\n",
       "      <td>OnePlus Nord CE 2 5G (Gray Mirror, 128 GB)</td>\n",
       "      <td>OnePlus Nord CE 2 5G (Gray Mirror, 128 GB)</td>\n",
       "      <td>OnePlus Nord CE 2 5G (Gray Mirror, 128 GB)</td>\n",
       "      <td>16.36 cm (6.44 inch) Full HD+ Display</td>\n",
       "      <td>16.36 cm (6.44 inch) Full HD+ Display</td>\n",
       "      <td>16.36 cm (6.44 inch) Full HD+ Display</td>\n",
       "      <td>16.36 cm (6.44 inch) Full HD+ Display</td>\n",
       "      <td>16.36 cm (6.44 inch) Full HD+ Display</td>\n",
       "      <td>16.36 cm (6.44 inch) Full HD+ Display</td>\n",
       "      <td>₹24,995\\n₹24,999</td>\n",
       "      <td>https://rukminim1.flixcart.com/image/312/312/x...</td>\n",
       "    </tr>\n",
       "  </tbody>\n",
       "</table>\n",
       "</div>"
      ],
      "text/plain": [
       "                                   BRAND_NAME  \\\n",
       "0            OnePlus Nord (Gray Onyx, 256 GB)   \n",
       "1          OnePlus Nord (Blue Marble, 256 GB)   \n",
       "2           OnePlus Nord (Blue Marble, 64 GB)   \n",
       "3             OnePlus Nord (Gray Onyx, 64 GB)   \n",
       "4            OnePlus Nord (Gray Onyx, 128 GB)   \n",
       "5          OnePlus Nord (Blue Marble, 128 GB)   \n",
       "6  OnePlus Nord CE 2 5G (Gray Mirror, 128 GB)   \n",
       "7  OnePlus Nord CE 2 5G (Gray Mirror, 128 GB)   \n",
       "\n",
       "                                   PHONE_NAME  \\\n",
       "0            OnePlus Nord (Gray Onyx, 256 GB)   \n",
       "1          OnePlus Nord (Blue Marble, 256 GB)   \n",
       "2           OnePlus Nord (Blue Marble, 64 GB)   \n",
       "3             OnePlus Nord (Gray Onyx, 64 GB)   \n",
       "4            OnePlus Nord (Gray Onyx, 128 GB)   \n",
       "5          OnePlus Nord (Blue Marble, 128 GB)   \n",
       "6  OnePlus Nord CE 2 5G (Gray Mirror, 128 GB)   \n",
       "7  OnePlus Nord CE 2 5G (Gray Mirror, 128 GB)   \n",
       "\n",
       "                                 PHONE_COLOUR  \\\n",
       "0            OnePlus Nord (Gray Onyx, 256 GB)   \n",
       "1          OnePlus Nord (Blue Marble, 256 GB)   \n",
       "2           OnePlus Nord (Blue Marble, 64 GB)   \n",
       "3             OnePlus Nord (Gray Onyx, 64 GB)   \n",
       "4            OnePlus Nord (Gray Onyx, 128 GB)   \n",
       "5          OnePlus Nord (Blue Marble, 128 GB)   \n",
       "6  OnePlus Nord CE 2 5G (Gray Mirror, 128 GB)   \n",
       "7  OnePlus Nord CE 2 5G (Gray Mirror, 128 GB)   \n",
       "\n",
       "                               PHONE_RAM  \\\n",
       "0                              12 GB RAM   \n",
       "1  16.36 cm (6.44 inch) Full HD+ Display   \n",
       "2                             48MP + 8MP   \n",
       "3                       4115 mAh Battery   \n",
       "4   Qualcomm® Snapdragon™ 765G Processor   \n",
       "5                                 1 Year   \n",
       "6                              12 GB RAM   \n",
       "7  16.36 cm (6.44 inch) Full HD+ Display   \n",
       "\n",
       "                               PHONE_ROM  \\\n",
       "0                             256 GB ROM   \n",
       "1  16.36 cm (6.44 inch) Full HD+ Display   \n",
       "2           32MP + 8MP Dual Front Camera   \n",
       "3                       4115 mAh Battery   \n",
       "4   Qualcomm® Snapdragon™ 765G Processor   \n",
       "5                                 1 Year   \n",
       "6                             256 GB ROM   \n",
       "7  16.36 cm (6.44 inch) Full HD+ Display   \n",
       "\n",
       "                             PRIM_CAMERA  \\\n",
       "0                              12 GB RAM   \n",
       "1  16.36 cm (6.44 inch) Full HD+ Display   \n",
       "2                             48MP + 8MP   \n",
       "3                       4115 mAh Battery   \n",
       "4   Qualcomm® Snapdragon™ 765G Processor   \n",
       "5                                 1 Year   \n",
       "6                              12 GB RAM   \n",
       "7  16.36 cm (6.44 inch) Full HD+ Display   \n",
       "\n",
       "                              SEC_CAMERA  \\\n",
       "0                             256 GB ROM   \n",
       "1  16.36 cm (6.44 inch) Full HD+ Display   \n",
       "2           32MP + 8MP Dual Front Camera   \n",
       "3                       4115 mAh Battery   \n",
       "4   Qualcomm® Snapdragon™ 765G Processor   \n",
       "5                                 1 Year   \n",
       "6                             256 GB ROM   \n",
       "7  16.36 cm (6.44 inch) Full HD+ Display   \n",
       "\n",
       "                                DISPLAY_SIZE  \\\n",
       "0                     12 GB RAM | 256 GB ROM   \n",
       "1      16.36 cm (6.44 inch) Full HD+ Display   \n",
       "2  48MP + 8MP | 32MP + 8MP Dual Front Camera   \n",
       "3                           4115 mAh Battery   \n",
       "4       Qualcomm® Snapdragon™ 765G Processor   \n",
       "5                                     1 Year   \n",
       "6                     12 GB RAM | 256 GB ROM   \n",
       "7      16.36 cm (6.44 inch) Full HD+ Display   \n",
       "\n",
       "                                 BATTERY_CAP      PHONE_PRICES  \\\n",
       "0                     12 GB RAM | 256 GB ROM           ₹29,999   \n",
       "1      16.36 cm (6.44 inch) Full HD+ Display           ₹29,999   \n",
       "2  48MP + 8MP | 32MP + 8MP Dual Front Camera           ₹24,999   \n",
       "3                           4115 mAh Battery           ₹24,999   \n",
       "4       Qualcomm® Snapdragon™ 765G Processor           ₹27,999   \n",
       "5                                     1 Year           ₹27,999   \n",
       "6                     12 GB RAM | 256 GB ROM           ₹19,999   \n",
       "7      16.36 cm (6.44 inch) Full HD+ Display  ₹24,995\\n₹24,999   \n",
       "\n",
       "                                         PRODUCT_URL  \n",
       "0  https://rukminim1.flixcart.com/image/312/312/k...  \n",
       "1  https://rukminim1.flixcart.com/image/312/312/k...  \n",
       "2  https://rukminim1.flixcart.com/image/312/312/k...  \n",
       "3  https://rukminim1.flixcart.com/image/312/312/k...  \n",
       "4  https://rukminim1.flixcart.com/image/312/312/k...  \n",
       "5  https://rukminim1.flixcart.com/image/312/312/k...  \n",
       "6  https://rukminim1.flixcart.com/image/312/312/x...  \n",
       "7  https://rukminim1.flixcart.com/image/312/312/x...  "
      ]
     },
     "execution_count": 46,
     "metadata": {},
     "output_type": "execute_result"
    }
   ],
   "source": [
    "#  MAKING DATA FRAME \n",
    "df = pd.DataFrame ({'BRAND_NAME':BRAND_NAME,'PHONE_NAME':PHONE_NAME,'PHONE_COLOUR':PHONE_COLOUR,'PHONE_RAM':PHONE_RAM,'PHONE_ROM':PHONE_ROM,'PRIM_CAMERA':PRIM_CAMERA,'SEC_CAMERA':SEC_CAMERA,'DISPLAY_SIZE':DISPLAY_SIZE,'BATTERY_CAP':BATTERY_CAP,'PHONE_PRICES':PHONE_PRICES,'PRODUCT_URL':PRODUCT_URL})\n",
    "df"
   ]
  }
 ],
 "metadata": {
  "kernelspec": {
   "display_name": "Python 3 (ipykernel)",
   "language": "python",
   "name": "python3"
  },
  "language_info": {
   "codemirror_mode": {
    "name": "ipython",
    "version": 3
   },
   "file_extension": ".py",
   "mimetype": "text/x-python",
   "name": "python",
   "nbconvert_exporter": "python",
   "pygments_lexer": "ipython3",
   "version": "3.9.13"
  }
 },
 "nbformat": 4,
 "nbformat_minor": 5
}
